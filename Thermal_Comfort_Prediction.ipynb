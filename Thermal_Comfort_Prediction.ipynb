{
  "nbformat": 4,
  "nbformat_minor": 0,
  "metadata": {
    "colab": {
      "provenance": []
    },
    "kernelspec": {
      "name": "python3",
      "display_name": "Python 3"
    },
    "language_info": {
      "name": "python"
    }
  },
  "cells": [
    {
      "cell_type": "code",
      "execution_count": 2,
      "metadata": {
        "id": "qDsL7WdFVE8k",
        "colab": {
          "base_uri": "https://localhost:8080/"
        },
        "outputId": "58f65750-03f6-4e06-bddf-ba0f4c07d364"
      },
      "outputs": [
        {
          "output_type": "stream",
          "name": "stdout",
          "text": [
            "Collecting category_encoders\n",
            "  Using cached category_encoders-2.6.3-py2.py3-none-any.whl (81 kB)\n",
            "Requirement already satisfied: numpy>=1.14.0 in /usr/local/lib/python3.10/dist-packages (from category_encoders) (1.25.2)\n",
            "Requirement already satisfied: scikit-learn>=0.20.0 in /usr/local/lib/python3.10/dist-packages (from category_encoders) (1.2.2)\n",
            "Requirement already satisfied: scipy>=1.0.0 in /usr/local/lib/python3.10/dist-packages (from category_encoders) (1.11.4)\n",
            "Requirement already satisfied: statsmodels>=0.9.0 in /usr/local/lib/python3.10/dist-packages (from category_encoders) (0.14.2)\n",
            "Requirement already satisfied: pandas>=1.0.5 in /usr/local/lib/python3.10/dist-packages (from category_encoders) (2.0.3)\n",
            "Requirement already satisfied: patsy>=0.5.1 in /usr/local/lib/python3.10/dist-packages (from category_encoders) (0.5.6)\n",
            "Requirement already satisfied: python-dateutil>=2.8.2 in /usr/local/lib/python3.10/dist-packages (from pandas>=1.0.5->category_encoders) (2.8.2)\n",
            "Requirement already satisfied: pytz>=2020.1 in /usr/local/lib/python3.10/dist-packages (from pandas>=1.0.5->category_encoders) (2023.4)\n",
            "Requirement already satisfied: tzdata>=2022.1 in /usr/local/lib/python3.10/dist-packages (from pandas>=1.0.5->category_encoders) (2024.1)\n",
            "Requirement already satisfied: six in /usr/local/lib/python3.10/dist-packages (from patsy>=0.5.1->category_encoders) (1.16.0)\n",
            "Requirement already satisfied: joblib>=1.1.1 in /usr/local/lib/python3.10/dist-packages (from scikit-learn>=0.20.0->category_encoders) (1.4.0)\n",
            "Requirement already satisfied: threadpoolctl>=2.0.0 in /usr/local/lib/python3.10/dist-packages (from scikit-learn>=0.20.0->category_encoders) (3.4.0)\n",
            "Requirement already satisfied: packaging>=21.3 in /usr/local/lib/python3.10/dist-packages (from statsmodels>=0.9.0->category_encoders) (24.0)\n",
            "Installing collected packages: category_encoders\n",
            "Successfully installed category_encoders-2.6.3\n",
            "Requirement already satisfied: scikit-optimize in /usr/local/lib/python3.10/dist-packages (0.10.1)\n",
            "Requirement already satisfied: joblib>=0.11 in /usr/local/lib/python3.10/dist-packages (from scikit-optimize) (1.4.0)\n",
            "Requirement already satisfied: pyaml>=16.9 in /usr/local/lib/python3.10/dist-packages (from scikit-optimize) (24.4.0)\n",
            "Requirement already satisfied: numpy>=1.20.3 in /usr/local/lib/python3.10/dist-packages (from scikit-optimize) (1.25.2)\n",
            "Requirement already satisfied: scipy>=1.1.0 in /usr/local/lib/python3.10/dist-packages (from scikit-optimize) (1.11.4)\n",
            "Requirement already satisfied: scikit-learn>=1.0.0 in /usr/local/lib/python3.10/dist-packages (from scikit-optimize) (1.2.2)\n",
            "Requirement already satisfied: packaging>=21.3 in /usr/local/lib/python3.10/dist-packages (from scikit-optimize) (24.0)\n",
            "Requirement already satisfied: PyYAML in /usr/local/lib/python3.10/dist-packages (from pyaml>=16.9->scikit-optimize) (6.0.1)\n",
            "Requirement already satisfied: threadpoolctl>=2.0.0 in /usr/local/lib/python3.10/dist-packages (from scikit-learn>=1.0.0->scikit-optimize) (3.4.0)\n"
          ]
        }
      ],
      "source": [
        "#Kevin Song Ngy Tea\n",
        "#Thanh-Liem Huynh\n",
        "\n",
        "import pandas as pd\n",
        "import numpy as np\n",
        "from sklearn.preprocessing import OneHotEncoder\n",
        "!pip install category_encoders\n",
        "!pip install scikit-optimize\n"
      ]
    },
    {
      "cell_type": "code",
      "source": [
        "df_train = pd.read_csv(\"ift6390_traindata.csv\")\n",
        "df_meta = pd.read_csv(\"ift6390_metadata.csv\")\n",
        "df_merge = pd.merge(df_train, df_meta, on=\"building_id\")\n",
        "df_merge.sort_values(by=\"row_id\", inplace=True)\n",
        "\n"
      ],
      "metadata": {
        "id": "9kWPZ1XWXQqJ"
      },
      "execution_count": 145,
      "outputs": []
    },
    {
      "cell_type": "code",
      "source": [
        "df_merge.dtypes"
      ],
      "metadata": {
        "id": "iNIW6MpBjFWC"
      },
      "execution_count": null,
      "outputs": []
    },
    {
      "cell_type": "code",
      "source": [
        "# There are some empty entries? Let's quickly look at how many there are\n",
        "# Il y a des entrées vides ? Jetons rapidement un coup d'œil pour voir combien il en manque\n",
        "\n",
        "def compute_nan(data):\n",
        "    num_rows = data.shape[0]\n",
        "    for var in data.columns:\n",
        "        num_nans = len(data[data[var].isnull()])\n",
        "        percentage = np.round(num_nans / num_rows * 100, 2)\n",
        "        print('{:<20} {:>10}% nan data'.format(var, percentage))"
      ],
      "metadata": {
        "id": "I2q8YsjSYE8R"
      },
      "execution_count": 146,
      "outputs": []
    },
    {
      "cell_type": "code",
      "source": [
        "import random\n",
        "\n",
        "def random_bin(proportion, Binary_1, Binary_0):\n",
        "\n",
        "  random_number = random.randint(1, 10)\n",
        "\n",
        "  if(random_number <= proportion):\n",
        "    return Binary_1\n",
        "  else:\n",
        "    return Binary_0\n"
      ],
      "metadata": {
        "id": "dqke8fCdJ2eh"
      },
      "execution_count": 147,
      "outputs": []
    },
    {
      "cell_type": "code",
      "source": [
        "average_age = round(df_merge[\"age\"].mean())\n",
        "print(\"average age: \" + str(average_age))\n",
        "\n",
        "average_clo = df_merge[\"clo\"].mean()\n",
        "print(\"average clo: \" + str(average_clo))\n",
        "\n",
        "average_met = df_merge[\"met\"].mean()\n",
        "print(\"average met: \" + str(average_met))\n",
        "\n",
        "average_height = df_merge[\"ht\"].mean()\n",
        "print(\"average height: \" + str(average_height))\n",
        "\n",
        "average_weight = df_merge[\"wt\"].mean()\n",
        "print(\"average weight: \" + str(average_weight))\n",
        "\n",
        "average_t_out = df_merge[\"t_out\"].mean()\n",
        "\n",
        "average_rh_out = df_merge[\"rh_out\"].mean()\n",
        "\n",
        "average_rh = df_merge[\"rh\"].mean()\n",
        "print(\"average rh: \" + str(average_rh))\n",
        "\n",
        "average_curtain = int(df_merge[\"blind_curtain\"].mean())\n",
        "print(\"average curtain: \" + str(average_curtain))\n",
        "\n",
        "average_door = int(df_merge[\"door\"].mean())\n",
        "print(\"average door: \" + str(average_door))\n",
        "\n",
        "average_fan = int(df_merge[\"fan\"].mean())\n",
        "print(\"average fan: \" + str(average_fan))\n",
        "\n",
        "average_vel = df_merge[\"vel\"].mean()\n",
        "\n",
        "\n",
        "print(df_merge.shape)\n",
        "t_out_grouped = df_merge.groupby([\"climate\", \"season\"])[\"t_out\"].mean()\n",
        "print(t_out_grouped.shape)\n"
      ],
      "metadata": {
        "colab": {
          "base_uri": "https://localhost:8080/"
        },
        "id": "9HE-G_24bQEq",
        "outputId": "9c667f19-644b-49f4-8a51-18d1653e5288"
      },
      "execution_count": 148,
      "outputs": [
        {
          "output_type": "stream",
          "name": "stdout",
          "text": [
            "average age: 33\n",
            "average clo: 0.6811800418782404\n",
            "average met: 1.2103452262110785\n",
            "average height: 1.6689524101934297\n",
            "average weight: 65.37748449955714\n",
            "average rh: 47.227948569318976\n",
            "average curtain: 0\n",
            "average door: 0\n",
            "average fan: 0\n",
            "(60110, 23)\n",
            "(62,)\n"
          ]
        }
      ]
    },
    {
      "cell_type": "code",
      "source": [
        "def OHE(data):\n",
        "  ohe = OneHotEncoder(handle_unknown=\"ignore\", sparse_output=False).set_output(transform=\"pandas\")\n",
        "\n",
        "  #gender\n",
        "  if 'gender' in data.columns:\n",
        "    ohetransform1 = ohe.fit_transform(data[[\"gender\"]])\n",
        "    data = pd.concat([data, ohetransform1], axis=1).drop(columns=[\"gender\"])\n",
        "\n",
        "  #season\n",
        "  if 'season' in data.columns:\n",
        "    ohetransform2 = ohe.fit_transform(data[[\"season\"]])\n",
        "    data = pd.concat([data, ohetransform2], axis=1).drop(columns=[\"season\"])\n",
        "\n",
        "  #climate\n",
        "  if 'climate' in data.columns:\n",
        "    ohetransform3 = ohe.fit_transform(data[[\"climate\"]])\n",
        "    data = pd.concat([data, ohetransform3], axis=1).drop(columns=[\"climate\"])\n",
        "\n",
        "  #cooling type\n",
        "  if 'cooling_type' in data.columns:\n",
        "    ohetransform4 = ohe.fit_transform(data[[\"cooling_type\"]])\n",
        "    data = pd.concat([data, ohetransform4], axis=1).drop(columns=[\"cooling_type\"])\n",
        "\n",
        "  return data"
      ],
      "metadata": {
        "id": "MqXb94iX71o1"
      },
      "execution_count": 149,
      "outputs": []
    },
    {
      "cell_type": "code",
      "source": [
        "def data_imputation2(data):\n",
        "  data[\"age\"].fillna(average_age, inplace=True)\n",
        "\n",
        "  if 'gender' in data.columns:\n",
        "    data[\"gender\"].fillna(random_bin(5, \"male\", \"female\"), inplace=True)\n",
        "\n",
        "  data[\"clo\"].fillna(average_clo, inplace=True)\n",
        "  data[\"met\"].fillna(average_met, inplace=True)\n",
        "\n",
        "  #rh\n",
        "  if 'climate' in data.columns:\n",
        "    data['rh'] = data.groupby(['climate', 'season'])['rh'].transform(lambda x: x.fillna(x.mean()))\n",
        "  else:\n",
        "    data[\"rh\"].fillna(average_rh, inplace=True)\n",
        "\n",
        "  if 'cooling_type' in data.columns:\n",
        "    data[\"cooling_type\"].fillna(\"mixed mode\", inplace=True)\n",
        "\n",
        "  columns_to_drop = ['blind_curtain', 'door', 'fan', 'tr', 'tg', 'window', 'ht', 'wt']\n",
        "  if all(col in data.columns for col in columns_to_drop):\n",
        "    data.drop(columns=columns_to_drop, inplace=True)\n",
        "\n",
        "  #t_out\n",
        "  if 'climate' in data.columns:\n",
        "    data['t_out'] = data.groupby(['climate', 'season'])['t_out'].transform(lambda x: x.fillna(x.mean()))\n",
        "    data['t_out'] = data.groupby(['climate'])['t_out'].transform(lambda x: x.fillna(x.mean()))\n",
        "    data['t_out'] = data.groupby(['season'])['t_out'].transform(lambda x: x.fillna(x.mean()))\n",
        "  else:\n",
        "    data[\"t_out\"].fillna(average_t_out, inplace=True)\n",
        "\n",
        "  #rh_out\n",
        "  if 'climate' in data.columns:\n",
        "    data['rh_out'] = data.groupby(['climate', 'season'])['rh_out'].transform(lambda x: x.fillna(x.mean()))\n",
        "    data['rh_out'] = data.groupby(['climate'])['rh_out'].transform(lambda x: x.fillna(x.mean()))\n",
        "    data['rh_out'] = data.groupby(['season'])['rh_out'].transform(lambda x: x.fillna(x.mean()))\n",
        "  else:\n",
        "    data[\"rh_out\"].fillna(average_rh_out, inplace=True)\n",
        "\n",
        "  #vel\n",
        "  if 'cooling_type' in data.columns:\n",
        "    data['vel'] = data.groupby(['cooling_type'])['vel'].transform(lambda x: x.fillna(x.mean()))\n",
        "  else:\n",
        "    data[\"vel\"].fillna(average_vel, inplace=True)\n",
        "\n",
        "\n",
        "  data = OHE(data)\n",
        "\n",
        "  return data\n",
        "\n",
        "\n"
      ],
      "metadata": {
        "id": "QENjPNa-8eWU"
      },
      "execution_count": 150,
      "outputs": []
    },
    {
      "cell_type": "code",
      "source": [
        "df_merge = data_imputation2(df_merge)\n",
        "compute_nan(df_merge)\n"
      ],
      "metadata": {
        "id": "Kd6Cns6PxZy9",
        "colab": {
          "base_uri": "https://localhost:8080/"
        },
        "outputId": "827ff718-1864-4c14-e854-2add16073307"
      },
      "execution_count": 151,
      "outputs": [
        {
          "output_type": "stream",
          "name": "stdout",
          "text": [
            "row_id                      0.0% nan data\n",
            "age                         0.0% nan data\n",
            "clo                         0.0% nan data\n",
            "met                         0.0% nan data\n",
            "t_out                       0.0% nan data\n",
            "rh_out                      0.0% nan data\n",
            "ta                          0.0% nan data\n",
            "rh                          0.0% nan data\n",
            "vel                         0.0% nan data\n",
            "building_id                 0.0% nan data\n",
            "thermal_sensation           0.0% nan data\n",
            "gender_female               0.0% nan data\n",
            "gender_male                 0.0% nan data\n",
            "season_autumn               0.0% nan data\n",
            "season_cool/dry             0.0% nan data\n",
            "season_hot/wet              0.0% nan data\n",
            "season_spring               0.0% nan data\n",
            "season_summer               0.0% nan data\n",
            "season_winter               0.0% nan data\n",
            "climate_continental subarctic        0.0% nan data\n",
            "climate_cool-summer mediterranean        0.0% nan data\n",
            "climate_desert (hot arid)        0.0% nan data\n",
            "climate_hot arid            0.0% nan data\n",
            "climate_hot desert          0.0% nan data\n",
            "climate_hot semi-arid        0.0% nan data\n",
            "climate_hot-summer mediterranean        0.0% nan data\n",
            "climate_humid midlatitude        0.0% nan data\n",
            "climate_humid subtropical        0.0% nan data\n",
            "climate_mediterranean        0.0% nan data\n",
            "climate_monsoon-influenced hot-summer humid continental        0.0% nan data\n",
            "climate_monsoon-influenced humid subtropical        0.0% nan data\n",
            "climate_monsoon-influenced temperate oceanic        0.0% nan data\n",
            "climate_semi arid high altitude        0.0% nan data\n",
            "climate_semi arid midlatitude        0.0% nan data\n",
            "climate_subtropical highland        0.0% nan data\n",
            "climate_temperate           0.0% nan data\n",
            "climate_temperate oceanic        0.0% nan data\n",
            "climate_temperature marine        0.0% nan data\n",
            "climate_tropical            0.0% nan data\n",
            "climate_tropical monsoon        0.0% nan data\n",
            "climate_tropical rainforest        0.0% nan data\n",
            "climate_tropical savanna        0.0% nan data\n",
            "climate_tropical wet savanna        0.0% nan data\n",
            "climate_warm-summer mediterranean        0.0% nan data\n",
            "climate_west coast marine        0.0% nan data\n",
            "cooling_type_air conditioned        0.0% nan data\n",
            "cooling_type_mixed mode        0.0% nan data\n",
            "cooling_type_naturally ventilated        0.0% nan data\n"
          ]
        }
      ]
    },
    {
      "cell_type": "code",
      "source": [
        "test_data = pd.read_csv('./test.csv')\n",
        "test_data = pd.merge(test_data, df_meta, on=\"building_id\")\n",
        "test_data.sort_values(by=\"row_id\", inplace=True)\n",
        "\n",
        "test_data = data_imputation2(test_data)\n",
        "test_data.drop(columns=[\"gender_undefined\"], inplace=True)\n",
        "X_test = test_data\n",
        "\n",
        "compute_nan(X_test)"
      ],
      "metadata": {
        "colab": {
          "base_uri": "https://localhost:8080/"
        },
        "id": "BbUPPRMhBdHk",
        "outputId": "2bce30d7-e19b-467b-a6bb-c6aa247b0f1f"
      },
      "execution_count": 152,
      "outputs": [
        {
          "output_type": "stream",
          "name": "stdout",
          "text": [
            "row_id                      0.0% nan data\n",
            "age                         0.0% nan data\n",
            "clo                         0.0% nan data\n",
            "met                         0.0% nan data\n",
            "t_out                       0.0% nan data\n",
            "rh_out                      0.0% nan data\n",
            "ta                          0.0% nan data\n",
            "rh                          0.0% nan data\n",
            "vel                         0.0% nan data\n",
            "building_id                 0.0% nan data\n",
            "gender_female               0.0% nan data\n",
            "gender_male                 0.0% nan data\n",
            "season_autumn               0.0% nan data\n",
            "season_cool/dry             0.0% nan data\n",
            "season_hot/wet              0.0% nan data\n",
            "season_spring               0.0% nan data\n",
            "season_summer               0.0% nan data\n",
            "season_winter               0.0% nan data\n",
            "climate_continental subarctic        0.0% nan data\n",
            "climate_cool-summer mediterranean        0.0% nan data\n",
            "climate_desert (hot arid)        0.0% nan data\n",
            "climate_hot arid            0.0% nan data\n",
            "climate_hot desert          0.0% nan data\n",
            "climate_hot semi-arid        0.0% nan data\n",
            "climate_hot-summer mediterranean        0.0% nan data\n",
            "climate_humid midlatitude        0.0% nan data\n",
            "climate_humid subtropical        0.0% nan data\n",
            "climate_mediterranean        0.0% nan data\n",
            "climate_monsoon-influenced hot-summer humid continental        0.0% nan data\n",
            "climate_monsoon-influenced humid subtropical        0.0% nan data\n",
            "climate_monsoon-influenced temperate oceanic        0.0% nan data\n",
            "climate_semi arid high altitude        0.0% nan data\n",
            "climate_semi arid midlatitude        0.0% nan data\n",
            "climate_subtropical highland        0.0% nan data\n",
            "climate_temperate           0.0% nan data\n",
            "climate_temperate oceanic        0.0% nan data\n",
            "climate_temperature marine        0.0% nan data\n",
            "climate_tropical            0.0% nan data\n",
            "climate_tropical monsoon        0.0% nan data\n",
            "climate_tropical rainforest        0.0% nan data\n",
            "climate_tropical savanna        0.0% nan data\n",
            "climate_tropical wet savanna        0.0% nan data\n",
            "climate_warm-summer mediterranean        0.0% nan data\n",
            "climate_west coast marine        0.0% nan data\n",
            "cooling_type_air conditioned        0.0% nan data\n",
            "cooling_type_mixed mode        0.0% nan data\n",
            "cooling_type_naturally ventilated        0.0% nan data\n"
          ]
        }
      ]
    },
    {
      "cell_type": "code",
      "source": [
        "from sklearn.model_selection import train_test_split\n",
        "\n",
        "thermal_sensation_column = df_merge.pop(\"thermal_sensation\")  # Extract the column\n",
        "\n",
        "# Reinsert the column at the desired position (at the end)\n",
        "df_merge[\"thermal_sensation\"] = thermal_sensation_column\n",
        "\n",
        "X_train = df_merge.iloc[:,:-1]\n",
        "y_train = df_merge.iloc[:,-1]\n",
        "\n",
        "y_train += 3"
      ],
      "metadata": {
        "id": "QKNamyIaCSG4"
      },
      "execution_count": 153,
      "outputs": []
    },
    {
      "cell_type": "code",
      "source": [
        "#Pipeline\n",
        "from sklearn.pipeline import Pipeline\n",
        "from category_encoders.target_encoder import TargetEncoder\n",
        "from xgboost import XGBClassifier\n",
        "\n",
        "estimators = [\n",
        "    (\"encorder\", TargetEncoder()),\n",
        "    (\"clf\", XGBClassifier(ranbdom_state=8))\n",
        "]\n",
        "pipe = Pipeline(steps=estimators)\n",
        "pipe"
      ],
      "metadata": {
        "colab": {
          "base_uri": "https://localhost:8080/",
          "height": 124
        },
        "id": "0KZM2V3iBg-r",
        "outputId": "f44b7e85-4c08-4eea-a14e-8bda4857b5d5"
      },
      "execution_count": 154,
      "outputs": [
        {
          "output_type": "execute_result",
          "data": {
            "text/plain": [
              "Pipeline(steps=[('encorder', TargetEncoder()),\n",
              "                ('clf',\n",
              "                 XGBClassifier(base_score=None, booster=None, callbacks=None,\n",
              "                               colsample_bylevel=None, colsample_bynode=None,\n",
              "                               colsample_bytree=None, device=None,\n",
              "                               early_stopping_rounds=None,\n",
              "                               enable_categorical=False, eval_metric=None,\n",
              "                               feature_types=None, gamma=None, grow_policy=None,\n",
              "                               importance_type=None,\n",
              "                               interaction_constraints=None, learning_rate=None,\n",
              "                               max_bin=None, max_cat_threshold=None,\n",
              "                               max_cat_to_onehot=None, max_delta_step=None,\n",
              "                               max_depth=None, max_leaves=None,\n",
              "                               min_child_weight=None, missing=nan,\n",
              "                               monotone_constraints=None, multi_strategy=None,\n",
              "                               n_estimators=None, n_jobs=None,\n",
              "                               num_parallel_tree=None, ranbdom_state=8, ...))])"
            ],
            "text/html": [
              "<style>#sk-container-id-13 {color: black;background-color: white;}#sk-container-id-13 pre{padding: 0;}#sk-container-id-13 div.sk-toggleable {background-color: white;}#sk-container-id-13 label.sk-toggleable__label {cursor: pointer;display: block;width: 100%;margin-bottom: 0;padding: 0.3em;box-sizing: border-box;text-align: center;}#sk-container-id-13 label.sk-toggleable__label-arrow:before {content: \"▸\";float: left;margin-right: 0.25em;color: #696969;}#sk-container-id-13 label.sk-toggleable__label-arrow:hover:before {color: black;}#sk-container-id-13 div.sk-estimator:hover label.sk-toggleable__label-arrow:before {color: black;}#sk-container-id-13 div.sk-toggleable__content {max-height: 0;max-width: 0;overflow: hidden;text-align: left;background-color: #f0f8ff;}#sk-container-id-13 div.sk-toggleable__content pre {margin: 0.2em;color: black;border-radius: 0.25em;background-color: #f0f8ff;}#sk-container-id-13 input.sk-toggleable__control:checked~div.sk-toggleable__content {max-height: 200px;max-width: 100%;overflow: auto;}#sk-container-id-13 input.sk-toggleable__control:checked~label.sk-toggleable__label-arrow:before {content: \"▾\";}#sk-container-id-13 div.sk-estimator input.sk-toggleable__control:checked~label.sk-toggleable__label {background-color: #d4ebff;}#sk-container-id-13 div.sk-label input.sk-toggleable__control:checked~label.sk-toggleable__label {background-color: #d4ebff;}#sk-container-id-13 input.sk-hidden--visually {border: 0;clip: rect(1px 1px 1px 1px);clip: rect(1px, 1px, 1px, 1px);height: 1px;margin: -1px;overflow: hidden;padding: 0;position: absolute;width: 1px;}#sk-container-id-13 div.sk-estimator {font-family: monospace;background-color: #f0f8ff;border: 1px dotted black;border-radius: 0.25em;box-sizing: border-box;margin-bottom: 0.5em;}#sk-container-id-13 div.sk-estimator:hover {background-color: #d4ebff;}#sk-container-id-13 div.sk-parallel-item::after {content: \"\";width: 100%;border-bottom: 1px solid gray;flex-grow: 1;}#sk-container-id-13 div.sk-label:hover label.sk-toggleable__label {background-color: #d4ebff;}#sk-container-id-13 div.sk-serial::before {content: \"\";position: absolute;border-left: 1px solid gray;box-sizing: border-box;top: 0;bottom: 0;left: 50%;z-index: 0;}#sk-container-id-13 div.sk-serial {display: flex;flex-direction: column;align-items: center;background-color: white;padding-right: 0.2em;padding-left: 0.2em;position: relative;}#sk-container-id-13 div.sk-item {position: relative;z-index: 1;}#sk-container-id-13 div.sk-parallel {display: flex;align-items: stretch;justify-content: center;background-color: white;position: relative;}#sk-container-id-13 div.sk-item::before, #sk-container-id-13 div.sk-parallel-item::before {content: \"\";position: absolute;border-left: 1px solid gray;box-sizing: border-box;top: 0;bottom: 0;left: 50%;z-index: -1;}#sk-container-id-13 div.sk-parallel-item {display: flex;flex-direction: column;z-index: 1;position: relative;background-color: white;}#sk-container-id-13 div.sk-parallel-item:first-child::after {align-self: flex-end;width: 50%;}#sk-container-id-13 div.sk-parallel-item:last-child::after {align-self: flex-start;width: 50%;}#sk-container-id-13 div.sk-parallel-item:only-child::after {width: 0;}#sk-container-id-13 div.sk-dashed-wrapped {border: 1px dashed gray;margin: 0 0.4em 0.5em 0.4em;box-sizing: border-box;padding-bottom: 0.4em;background-color: white;}#sk-container-id-13 div.sk-label label {font-family: monospace;font-weight: bold;display: inline-block;line-height: 1.2em;}#sk-container-id-13 div.sk-label-container {text-align: center;}#sk-container-id-13 div.sk-container {/* jupyter's `normalize.less` sets `[hidden] { display: none; }` but bootstrap.min.css set `[hidden] { display: none !important; }` so we also need the `!important` here to be able to override the default hidden behavior on the sphinx rendered scikit-learn.org. See: https://github.com/scikit-learn/scikit-learn/issues/21755 */display: inline-block !important;position: relative;}#sk-container-id-13 div.sk-text-repr-fallback {display: none;}</style><div id=\"sk-container-id-13\" class=\"sk-top-container\"><div class=\"sk-text-repr-fallback\"><pre>Pipeline(steps=[(&#x27;encorder&#x27;, TargetEncoder()),\n",
              "                (&#x27;clf&#x27;,\n",
              "                 XGBClassifier(base_score=None, booster=None, callbacks=None,\n",
              "                               colsample_bylevel=None, colsample_bynode=None,\n",
              "                               colsample_bytree=None, device=None,\n",
              "                               early_stopping_rounds=None,\n",
              "                               enable_categorical=False, eval_metric=None,\n",
              "                               feature_types=None, gamma=None, grow_policy=None,\n",
              "                               importance_type=None,\n",
              "                               interaction_constraints=None, learning_rate=None,\n",
              "                               max_bin=None, max_cat_threshold=None,\n",
              "                               max_cat_to_onehot=None, max_delta_step=None,\n",
              "                               max_depth=None, max_leaves=None,\n",
              "                               min_child_weight=None, missing=nan,\n",
              "                               monotone_constraints=None, multi_strategy=None,\n",
              "                               n_estimators=None, n_jobs=None,\n",
              "                               num_parallel_tree=None, ranbdom_state=8, ...))])</pre><b>In a Jupyter environment, please rerun this cell to show the HTML representation or trust the notebook. <br />On GitHub, the HTML representation is unable to render, please try loading this page with nbviewer.org.</b></div><div class=\"sk-container\" hidden><div class=\"sk-item sk-dashed-wrapped\"><div class=\"sk-label-container\"><div class=\"sk-label sk-toggleable\"><input class=\"sk-toggleable__control sk-hidden--visually\" id=\"sk-estimator-id-42\" type=\"checkbox\" ><label for=\"sk-estimator-id-42\" class=\"sk-toggleable__label sk-toggleable__label-arrow\">Pipeline</label><div class=\"sk-toggleable__content\"><pre>Pipeline(steps=[(&#x27;encorder&#x27;, TargetEncoder()),\n",
              "                (&#x27;clf&#x27;,\n",
              "                 XGBClassifier(base_score=None, booster=None, callbacks=None,\n",
              "                               colsample_bylevel=None, colsample_bynode=None,\n",
              "                               colsample_bytree=None, device=None,\n",
              "                               early_stopping_rounds=None,\n",
              "                               enable_categorical=False, eval_metric=None,\n",
              "                               feature_types=None, gamma=None, grow_policy=None,\n",
              "                               importance_type=None,\n",
              "                               interaction_constraints=None, learning_rate=None,\n",
              "                               max_bin=None, max_cat_threshold=None,\n",
              "                               max_cat_to_onehot=None, max_delta_step=None,\n",
              "                               max_depth=None, max_leaves=None,\n",
              "                               min_child_weight=None, missing=nan,\n",
              "                               monotone_constraints=None, multi_strategy=None,\n",
              "                               n_estimators=None, n_jobs=None,\n",
              "                               num_parallel_tree=None, ranbdom_state=8, ...))])</pre></div></div></div><div class=\"sk-serial\"><div class=\"sk-item\"><div class=\"sk-estimator sk-toggleable\"><input class=\"sk-toggleable__control sk-hidden--visually\" id=\"sk-estimator-id-43\" type=\"checkbox\" ><label for=\"sk-estimator-id-43\" class=\"sk-toggleable__label sk-toggleable__label-arrow\">TargetEncoder</label><div class=\"sk-toggleable__content\"><pre>TargetEncoder()</pre></div></div></div><div class=\"sk-item\"><div class=\"sk-estimator sk-toggleable\"><input class=\"sk-toggleable__control sk-hidden--visually\" id=\"sk-estimator-id-44\" type=\"checkbox\" ><label for=\"sk-estimator-id-44\" class=\"sk-toggleable__label sk-toggleable__label-arrow\">XGBClassifier</label><div class=\"sk-toggleable__content\"><pre>XGBClassifier(base_score=None, booster=None, callbacks=None,\n",
              "              colsample_bylevel=None, colsample_bynode=None,\n",
              "              colsample_bytree=None, device=None, early_stopping_rounds=None,\n",
              "              enable_categorical=False, eval_metric=None, feature_types=None,\n",
              "              gamma=None, grow_policy=None, importance_type=None,\n",
              "              interaction_constraints=None, learning_rate=None, max_bin=None,\n",
              "              max_cat_threshold=None, max_cat_to_onehot=None,\n",
              "              max_delta_step=None, max_depth=None, max_leaves=None,\n",
              "              min_child_weight=None, missing=nan, monotone_constraints=None,\n",
              "              multi_strategy=None, n_estimators=None, n_jobs=None,\n",
              "              num_parallel_tree=None, ranbdom_state=8, ...)</pre></div></div></div></div></div></div></div>"
            ]
          },
          "metadata": {},
          "execution_count": 154
        }
      ]
    },
    {
      "cell_type": "code",
      "source": [
        "from skopt import BayesSearchCV\n",
        "from skopt.space import Real, Categorical, Integer\n",
        "\n",
        "search_space = {\n",
        "    \"clf__max_depth\": Integer(2,8),\n",
        "    \"clf__learning_rate\": Real(0.001, 0.5, prior=\"log-uniform\"),\n",
        "    \"clf__subsample\": Real(0.5, 1.0),\n",
        "    \"clf__colsample_bytree\": Real(0.5, 1.0),\n",
        "    \"clf__colsample_bylevel\": Real(0.5, 1.0),\n",
        "    \"clf__colsample_bynode\": Real(0.5, 1.0),\n",
        "    \"clf__reg_alpha\": Real(0.0, 10.0),\n",
        "    \"clf__reg_lambda\": Real(0.0, 10.0),\n",
        "    \"clf__gamma\": Real(0.0, 10.0),\n",
        "}\n",
        "\n",
        "opt = BayesSearchCV(pipe, search_space, cv=3, n_iter=10, scoring=\"accuracy\", random_state=8)"
      ],
      "metadata": {
        "id": "5Vv9ZmBgMAMj"
      },
      "execution_count": 155,
      "outputs": []
    },
    {
      "cell_type": "code",
      "source": [
        "opt.fit(X_train, y_train)"
      ],
      "metadata": {
        "id": "_gNNPcnUODap"
      },
      "execution_count": null,
      "outputs": []
    },
    {
      "cell_type": "code",
      "source": [
        "opt.best_estimator_"
      ],
      "metadata": {
        "colab": {
          "base_uri": "https://localhost:8080/",
          "height": 347
        },
        "id": "EX1ZtiWMzMs0",
        "outputId": "65f409ff-4d4f-47df-e5c7-d05579e3a765"
      },
      "execution_count": 75,
      "outputs": [
        {
          "output_type": "execute_result",
          "data": {
            "text/plain": [
              "Pipeline(steps=[('encorder', TargetEncoder(cols=[])),\n",
              "                ('clf',\n",
              "                 XGBClassifier(base_score=None, booster=None, callbacks=None,\n",
              "                               colsample_bylevel=0.9425384185492701,\n",
              "                               colsample_bynode=0.9095956806239844,\n",
              "                               colsample_bytree=0.706128679361455, device=None,\n",
              "                               early_stopping_rounds=None,\n",
              "                               enable_categorical=False, eval_metric=None,\n",
              "                               feature_types=None, gamma=1.6598135411398998,\n",
              "                               grow_policy=None, importance_type=None,\n",
              "                               interaction_constraints=None,\n",
              "                               learning_rate=0.40582798722369146, max_bin=None,\n",
              "                               max_cat_threshold=None, max_cat_to_onehot=None,\n",
              "                               max_delta_step=None, max_depth=7,\n",
              "                               max_leaves=None, min_child_weight=None,\n",
              "                               missing=nan, monotone_constraints=None,\n",
              "                               multi_strategy=None, n_estimators=None,\n",
              "                               n_jobs=None, num_parallel_tree=None,\n",
              "                               ranbdom_state=8, ...))])"
            ],
            "text/html": [
              "<style>#sk-container-id-5 {color: black;background-color: white;}#sk-container-id-5 pre{padding: 0;}#sk-container-id-5 div.sk-toggleable {background-color: white;}#sk-container-id-5 label.sk-toggleable__label {cursor: pointer;display: block;width: 100%;margin-bottom: 0;padding: 0.3em;box-sizing: border-box;text-align: center;}#sk-container-id-5 label.sk-toggleable__label-arrow:before {content: \"▸\";float: left;margin-right: 0.25em;color: #696969;}#sk-container-id-5 label.sk-toggleable__label-arrow:hover:before {color: black;}#sk-container-id-5 div.sk-estimator:hover label.sk-toggleable__label-arrow:before {color: black;}#sk-container-id-5 div.sk-toggleable__content {max-height: 0;max-width: 0;overflow: hidden;text-align: left;background-color: #f0f8ff;}#sk-container-id-5 div.sk-toggleable__content pre {margin: 0.2em;color: black;border-radius: 0.25em;background-color: #f0f8ff;}#sk-container-id-5 input.sk-toggleable__control:checked~div.sk-toggleable__content {max-height: 200px;max-width: 100%;overflow: auto;}#sk-container-id-5 input.sk-toggleable__control:checked~label.sk-toggleable__label-arrow:before {content: \"▾\";}#sk-container-id-5 div.sk-estimator input.sk-toggleable__control:checked~label.sk-toggleable__label {background-color: #d4ebff;}#sk-container-id-5 div.sk-label input.sk-toggleable__control:checked~label.sk-toggleable__label {background-color: #d4ebff;}#sk-container-id-5 input.sk-hidden--visually {border: 0;clip: rect(1px 1px 1px 1px);clip: rect(1px, 1px, 1px, 1px);height: 1px;margin: -1px;overflow: hidden;padding: 0;position: absolute;width: 1px;}#sk-container-id-5 div.sk-estimator {font-family: monospace;background-color: #f0f8ff;border: 1px dotted black;border-radius: 0.25em;box-sizing: border-box;margin-bottom: 0.5em;}#sk-container-id-5 div.sk-estimator:hover {background-color: #d4ebff;}#sk-container-id-5 div.sk-parallel-item::after {content: \"\";width: 100%;border-bottom: 1px solid gray;flex-grow: 1;}#sk-container-id-5 div.sk-label:hover label.sk-toggleable__label {background-color: #d4ebff;}#sk-container-id-5 div.sk-serial::before {content: \"\";position: absolute;border-left: 1px solid gray;box-sizing: border-box;top: 0;bottom: 0;left: 50%;z-index: 0;}#sk-container-id-5 div.sk-serial {display: flex;flex-direction: column;align-items: center;background-color: white;padding-right: 0.2em;padding-left: 0.2em;position: relative;}#sk-container-id-5 div.sk-item {position: relative;z-index: 1;}#sk-container-id-5 div.sk-parallel {display: flex;align-items: stretch;justify-content: center;background-color: white;position: relative;}#sk-container-id-5 div.sk-item::before, #sk-container-id-5 div.sk-parallel-item::before {content: \"\";position: absolute;border-left: 1px solid gray;box-sizing: border-box;top: 0;bottom: 0;left: 50%;z-index: -1;}#sk-container-id-5 div.sk-parallel-item {display: flex;flex-direction: column;z-index: 1;position: relative;background-color: white;}#sk-container-id-5 div.sk-parallel-item:first-child::after {align-self: flex-end;width: 50%;}#sk-container-id-5 div.sk-parallel-item:last-child::after {align-self: flex-start;width: 50%;}#sk-container-id-5 div.sk-parallel-item:only-child::after {width: 0;}#sk-container-id-5 div.sk-dashed-wrapped {border: 1px dashed gray;margin: 0 0.4em 0.5em 0.4em;box-sizing: border-box;padding-bottom: 0.4em;background-color: white;}#sk-container-id-5 div.sk-label label {font-family: monospace;font-weight: bold;display: inline-block;line-height: 1.2em;}#sk-container-id-5 div.sk-label-container {text-align: center;}#sk-container-id-5 div.sk-container {/* jupyter's `normalize.less` sets `[hidden] { display: none; }` but bootstrap.min.css set `[hidden] { display: none !important; }` so we also need the `!important` here to be able to override the default hidden behavior on the sphinx rendered scikit-learn.org. See: https://github.com/scikit-learn/scikit-learn/issues/21755 */display: inline-block !important;position: relative;}#sk-container-id-5 div.sk-text-repr-fallback {display: none;}</style><div id=\"sk-container-id-5\" class=\"sk-top-container\"><div class=\"sk-text-repr-fallback\"><pre>Pipeline(steps=[(&#x27;encorder&#x27;, TargetEncoder(cols=[])),\n",
              "                (&#x27;clf&#x27;,\n",
              "                 XGBClassifier(base_score=None, booster=None, callbacks=None,\n",
              "                               colsample_bylevel=0.9425384185492701,\n",
              "                               colsample_bynode=0.9095956806239844,\n",
              "                               colsample_bytree=0.706128679361455, device=None,\n",
              "                               early_stopping_rounds=None,\n",
              "                               enable_categorical=False, eval_metric=None,\n",
              "                               feature_types=None, gamma=1.6598135411398998,\n",
              "                               grow_policy=None, importance_type=None,\n",
              "                               interaction_constraints=None,\n",
              "                               learning_rate=0.40582798722369146, max_bin=None,\n",
              "                               max_cat_threshold=None, max_cat_to_onehot=None,\n",
              "                               max_delta_step=None, max_depth=7,\n",
              "                               max_leaves=None, min_child_weight=None,\n",
              "                               missing=nan, monotone_constraints=None,\n",
              "                               multi_strategy=None, n_estimators=None,\n",
              "                               n_jobs=None, num_parallel_tree=None,\n",
              "                               ranbdom_state=8, ...))])</pre><b>In a Jupyter environment, please rerun this cell to show the HTML representation or trust the notebook. <br />On GitHub, the HTML representation is unable to render, please try loading this page with nbviewer.org.</b></div><div class=\"sk-container\" hidden><div class=\"sk-item sk-dashed-wrapped\"><div class=\"sk-label-container\"><div class=\"sk-label sk-toggleable\"><input class=\"sk-toggleable__control sk-hidden--visually\" id=\"sk-estimator-id-14\" type=\"checkbox\" ><label for=\"sk-estimator-id-14\" class=\"sk-toggleable__label sk-toggleable__label-arrow\">Pipeline</label><div class=\"sk-toggleable__content\"><pre>Pipeline(steps=[(&#x27;encorder&#x27;, TargetEncoder(cols=[])),\n",
              "                (&#x27;clf&#x27;,\n",
              "                 XGBClassifier(base_score=None, booster=None, callbacks=None,\n",
              "                               colsample_bylevel=0.9425384185492701,\n",
              "                               colsample_bynode=0.9095956806239844,\n",
              "                               colsample_bytree=0.706128679361455, device=None,\n",
              "                               early_stopping_rounds=None,\n",
              "                               enable_categorical=False, eval_metric=None,\n",
              "                               feature_types=None, gamma=1.6598135411398998,\n",
              "                               grow_policy=None, importance_type=None,\n",
              "                               interaction_constraints=None,\n",
              "                               learning_rate=0.40582798722369146, max_bin=None,\n",
              "                               max_cat_threshold=None, max_cat_to_onehot=None,\n",
              "                               max_delta_step=None, max_depth=7,\n",
              "                               max_leaves=None, min_child_weight=None,\n",
              "                               missing=nan, monotone_constraints=None,\n",
              "                               multi_strategy=None, n_estimators=None,\n",
              "                               n_jobs=None, num_parallel_tree=None,\n",
              "                               ranbdom_state=8, ...))])</pre></div></div></div><div class=\"sk-serial\"><div class=\"sk-item\"><div class=\"sk-estimator sk-toggleable\"><input class=\"sk-toggleable__control sk-hidden--visually\" id=\"sk-estimator-id-15\" type=\"checkbox\" ><label for=\"sk-estimator-id-15\" class=\"sk-toggleable__label sk-toggleable__label-arrow\">TargetEncoder</label><div class=\"sk-toggleable__content\"><pre>TargetEncoder(cols=[])</pre></div></div></div><div class=\"sk-item\"><div class=\"sk-estimator sk-toggleable\"><input class=\"sk-toggleable__control sk-hidden--visually\" id=\"sk-estimator-id-16\" type=\"checkbox\" ><label for=\"sk-estimator-id-16\" class=\"sk-toggleable__label sk-toggleable__label-arrow\">XGBClassifier</label><div class=\"sk-toggleable__content\"><pre>XGBClassifier(base_score=None, booster=None, callbacks=None,\n",
              "              colsample_bylevel=0.9425384185492701,\n",
              "              colsample_bynode=0.9095956806239844,\n",
              "              colsample_bytree=0.706128679361455, device=None,\n",
              "              early_stopping_rounds=None, enable_categorical=False,\n",
              "              eval_metric=None, feature_types=None, gamma=1.6598135411398998,\n",
              "              grow_policy=None, importance_type=None,\n",
              "              interaction_constraints=None, learning_rate=0.40582798722369146,\n",
              "              max_bin=None, max_cat_threshold=None, max_cat_to_onehot=None,\n",
              "              max_delta_step=None, max_depth=7, max_leaves=None,\n",
              "              min_child_weight=None, missing=nan, monotone_constraints=None,\n",
              "              multi_strategy=None, n_estimators=None, n_jobs=None,\n",
              "              num_parallel_tree=None, ranbdom_state=8, ...)</pre></div></div></div></div></div></div></div>"
            ]
          },
          "metadata": {},
          "execution_count": 75
        }
      ]
    },
    {
      "cell_type": "code",
      "source": [
        "opt.best_score_"
      ],
      "metadata": {
        "colab": {
          "base_uri": "https://localhost:8080/"
        },
        "id": "aepf1S_PQZMp",
        "outputId": "09d69601-727d-43dd-bc51-67054b512975"
      },
      "execution_count": 158,
      "outputs": [
        {
          "output_type": "execute_result",
          "data": {
            "text/plain": [
              "0.4448677645829495"
            ]
          },
          "metadata": {},
          "execution_count": 158
        }
      ]
    },
    {
      "cell_type": "code",
      "source": [
        "opt.score(X_train, y_train)"
      ],
      "metadata": {
        "colab": {
          "base_uri": "https://localhost:8080/"
        },
        "id": "jo0BrM1EQjji",
        "outputId": "5a06c947-e174-4ac0-93fe-1a521ba485c8"
      },
      "execution_count": 159,
      "outputs": [
        {
          "output_type": "execute_result",
          "data": {
            "text/plain": [
              "0.45080685410081517"
            ]
          },
          "metadata": {},
          "execution_count": 159
        }
      ]
    },
    {
      "cell_type": "code",
      "source": [
        "# Prédire les classes sur l'ensemble de test\n",
        "\n",
        "y_pred_test = opt.predict(X_test) - 3\n",
        "y_pred_test_corrected = y_pred_test\n",
        "print(y_pred_test_corrected)"
      ],
      "metadata": {
        "colab": {
          "base_uri": "https://localhost:8080/"
        },
        "id": "-2FvVOWqBaxs",
        "outputId": "c2432337-4000-4c60-f4cd-1f67ea75ef81"
      },
      "execution_count": 160,
      "outputs": [
        {
          "output_type": "stream",
          "name": "stdout",
          "text": [
            "[0 0 2 ... 0 0 0]\n"
          ]
        }
      ]
    },
    {
      "cell_type": "code",
      "source": [
        "#Nos résults produits par XGBoost\n",
        "new_predictions = np.zeros((test_data.shape[0], 2))\n",
        "np_test = test_data.to_numpy()\n",
        "for i, d in enumerate(np_test):\n",
        "  new_predictions[i, 0] = int(d[0])\n",
        "  new_predictions[i, 1] = y_pred_test_corrected[i]\n",
        "\n",
        "new_sample_submission = pd.DataFrame(data=new_predictions,\n",
        "                                     columns=['row_id', 'thermal_sensation'])\n",
        "new_sample_submission"
      ],
      "metadata": {
        "id": "2yQPzOV8Edj5"
      },
      "execution_count": null,
      "outputs": []
    },
    {
      "cell_type": "code",
      "source": [
        "# save into csv\n",
        "#df_merge.to_csv(\"./df_merge.csv\", index=False)\n",
        "new_sample_submission.to_csv('./new_sample_submission28.csv', index=False)"
      ],
      "metadata": {
        "id": "xkGR0b-eEeht"
      },
      "execution_count": 162,
      "outputs": []
    }
  ]
}